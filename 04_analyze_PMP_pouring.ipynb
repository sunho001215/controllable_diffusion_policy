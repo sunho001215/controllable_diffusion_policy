{
 "cells": [
  {
   "cell_type": "code",
   "execution_count": 1,
   "metadata": {},
   "outputs": [],
   "source": [
    "import torch\n",
    "from diffusers.schedulers.scheduling_ddpm import DDPMScheduler\n",
    "from diffusers.schedulers.scheduling_ddim import DDIMScheduler\n",
    "from models.ConditionalUNet1D import ConditionalUnet1D\n",
    "from utils.tools import SO3_to_ortho6d, ortho6d_to_SO3, create_se3_matrix\n",
    "import os, pickle\n",
    "import numpy as np\n",
    "from utils.core import compute_jacobian, compute_PMP, compute_rank\n"
   ]
  },
  {
   "cell_type": "code",
   "execution_count": 2,
   "metadata": {},
   "outputs": [],
   "source": [
    "model = \"DDIM\"\n",
    "model_path = \"./params/pouring_dataset_augmented/\" + model + \"/model_ep500.pt\"\n",
    "dataset_path = \"./datasets/pouring_data/\"\n",
    "data_name = \"3_water_200.pkl\"\n",
    "device = 'cuda'\n",
    "num_diffusion_iters = 100\n",
    "input_dim=9"
   ]
  },
  {
   "cell_type": "code",
   "execution_count": 3,
   "metadata": {},
   "outputs": [
    {
     "name": "stdout",
     "output_type": "stream",
     "text": [
      "traj.shape: torch.Size([1, 480, 9])\n"
     ]
    }
   ],
   "source": [
    "# Load data\n",
    "with open(os.path.join(dataset_path, data_name), 'rb') as f:\n",
    "    data = pickle.load(f)\n",
    "\n",
    "# Trajectory of bottle\n",
    "traj = data['traj']\n",
    "traj = traj@np.array([[\n",
    "    [1., 0., 0., data['offset'][0]], \n",
    "    [0., 1., 0., data['offset'][1]], \n",
    "    [0., 0., 1., data['offset'][2]], \n",
    "    [0., 0., 0., 1.]]])\n",
    "\n",
    "traj = torch.Tensor(traj).type(torch.float32).to(device)\n",
    "\n",
    "rotation_matrices = traj[:, :3, :3]\n",
    "translations = traj[:, :3, 3]\n",
    "\n",
    "ortho6d = SO3_to_ortho6d(rotation_matrices)\n",
    "traj = torch.cat([ortho6d, translations], dim=1)\n",
    "traj = torch.unsqueeze(traj, 0)\n",
    "\n",
    "print(\"traj.shape:\",traj.shape)"
   ]
  },
  {
   "cell_type": "code",
   "execution_count": 4,
   "metadata": {},
   "outputs": [],
   "source": [
    "# Load model\n",
    "noise_pred_net = ConditionalUnet1D(\n",
    "    input_dim=input_dim,\n",
    "    global_cond_dim=0\n",
    ")\n",
    "\n",
    "noise_pred_net = torch.load(model_path, map_location='cuda', weights_only=False)\n",
    "\n",
    "if model == \"DDPM\":\n",
    "    noise_scheduler = DDPMScheduler(\n",
    "        num_train_timesteps=num_diffusion_iters,\n",
    "        # Squared cosine\n",
    "        beta_schedule='squaredcos_cap_v2',\n",
    "        # Clip output to [-1,1]\n",
    "        clip_sample=True,\n",
    "        prediction_type='epsilon'\n",
    "    )\n",
    "elif model == \"DDIM\":\n",
    "    noise_scheduler = DDIMScheduler(\n",
    "        num_train_timesteps=num_diffusion_iters,\n",
    "        # Squared cosine\n",
    "        beta_schedule='squaredcos_cap_v2',\n",
    "        # Clip output to [-1,1]\n",
    "        clip_sample=True,\n",
    "        prediction_type='epsilon'\n",
    "    )\n",
    "\n",
    "_ = noise_pred_net.to(device)"
   ]
  },
  {
   "cell_type": "code",
   "execution_count": 5,
   "metadata": {},
   "outputs": [
    {
     "name": "stdout",
     "output_type": "stream",
     "text": [
      "Jacobian shape: torch.Size([1, 4320, 1, 480, 9])\n"
     ]
    }
   ],
   "source": [
    "jacobian_rank = []\n",
    "for t in [x * 0.05 for x in range(20)]:\n",
    "    timestep = int(t * num_diffusion_iters)\n",
    "\n",
    "    # Calculate x_t\n",
    "    noise = torch.randn(traj.shape, device=device)\n",
    "    x_t = noise_scheduler.add_noise(\n",
    "        traj, noise, torch.tensor([timestep], dtype=torch.long).to(device)\n",
    "    )\n",
    "\n",
    "    # Compute Jacobian of PMP with respect to x_t\n",
    "    x_t = x_t.requires_grad_(True)\n",
    "\n",
    "    jacobian = compute_jacobian(lambda x: compute_PMP(x, timestep, noise_pred_net, noise_scheduler), x_t)\n",
    "    \n",
    "    if t==0:\n",
    "        print(\"Jacobian shape:\", jacobian.shape)\n",
    "    \n",
    "    batch_size, jacobian_dim, _, _, _ = jacobian.shape\n",
    "    jacobian_reshaped = jacobian.view(jacobian_dim,jacobian_dim)\n",
    "\n",
    "    # Compute the rank of the Jacobian matrix\n",
    "    jacobian_rank.append(compute_rank(jacobian_reshaped))"
   ]
  },
  {
   "cell_type": "code",
   "execution_count": 6,
   "metadata": {},
   "outputs": [
    {
     "name": "stdout",
     "output_type": "stream",
     "text": [
      "[2507, 2476, 2514, 2536, 2547, 2561, 2563, 2558, 2493, 2477, 2539, 2573, 2691, 2420, 2354, 2604, 2690, 2722, 2721, 2822]\n"
     ]
    }
   ],
   "source": [
    "print(jacobian_rank)"
   ]
  },
  {
   "cell_type": "code",
   "execution_count": null,
   "metadata": {},
   "outputs": [],
   "source": []
  }
 ],
 "metadata": {
  "kernelspec": {
   "display_name": "diffpo",
   "language": "python",
   "name": "python3"
  },
  "language_info": {
   "codemirror_mode": {
    "name": "ipython",
    "version": 3
   },
   "file_extension": ".py",
   "mimetype": "text/x-python",
   "name": "python",
   "nbconvert_exporter": "python",
   "pygments_lexer": "ipython3",
   "version": "3.10.12"
  }
 },
 "nbformat": 4,
 "nbformat_minor": 2
}
