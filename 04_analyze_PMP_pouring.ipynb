{
 "cells": [
  {
   "cell_type": "code",
   "execution_count": 1,
   "metadata": {},
   "outputs": [],
   "source": [
    "import torch\n",
    "from diffusers.schedulers.scheduling_ddpm import DDPMScheduler\n",
    "from models.ConditionalUNet1D import ConditionalUnet1D\n",
    "from utils.tools import SO3_to_ortho6d, ortho6d_to_SO3, create_se3_matrix\n",
    "import os, pickle\n",
    "import numpy as np\n",
    "from utils.core import compute_jacobian, compute_PMP"
   ]
  },
  {
   "cell_type": "code",
   "execution_count": 2,
   "metadata": {},
   "outputs": [],
   "source": [
    "model = \"DDPM\"\n",
    "model_path = \"./params/pouring_dataset/\" + model + \"/model_ep5000.pt\"\n",
    "dataset_path = \"./datasets/pouring_data/\"\n",
    "data_name = \"3_water_200.pkl\"\n",
    "device = 'cuda'\n",
    "num_diffusion_iters = 100\n",
    "input_dim=9"
   ]
  },
  {
   "cell_type": "code",
   "execution_count": 3,
   "metadata": {},
   "outputs": [
    {
     "name": "stdout",
     "output_type": "stream",
     "text": [
      "traj.shape: torch.Size([1, 480, 9])\n"
     ]
    }
   ],
   "source": [
    "# Load data\n",
    "with open(os.path.join(dataset_path, data_name), 'rb') as f:\n",
    "    data = pickle.load(f)\n",
    "\n",
    "# Trajectory of bottle\n",
    "traj = data['traj']\n",
    "traj = traj@np.array([[\n",
    "    [1., 0., 0., data['offset'][0]], \n",
    "    [0., 1., 0., data['offset'][1]], \n",
    "    [0., 0., 1., data['offset'][2]], \n",
    "    [0., 0., 0., 1.]]])\n",
    "\n",
    "traj = torch.Tensor(traj).type(torch.float32).to(device)\n",
    "\n",
    "rotation_matrices = traj[:, :3, :3]\n",
    "translations = traj[:, :3, 3]\n",
    "\n",
    "ortho6d = SO3_to_ortho6d(rotation_matrices)\n",
    "traj = torch.cat([ortho6d, translations], dim=1)\n",
    "traj = torch.unsqueeze(traj, 0)\n",
    "\n",
    "print(\"traj.shape:\",traj.shape)"
   ]
  },
  {
   "cell_type": "code",
   "execution_count": 4,
   "metadata": {},
   "outputs": [],
   "source": [
    "# Load model\n",
    "noise_pred_net = ConditionalUnet1D(\n",
    "    input_dim=input_dim,\n",
    "    global_cond_dim=0\n",
    ")\n",
    "\n",
    "noise_pred_net = torch.load(model_path, map_location='cuda', weights_only=False)\n",
    "\n",
    "noise_scheduler = DDPMScheduler(\n",
    "    num_train_timesteps=num_diffusion_iters,\n",
    "    # Squared cosine\n",
    "    beta_schedule='squaredcos_cap_v2',\n",
    "    # Clip output to [-1,1]\n",
    "    clip_sample=True,\n",
    "    prediction_type='epsilon'\n",
    ")\n",
    "\n",
    "_ = noise_pred_net.to(device)"
   ]
  },
  {
   "cell_type": "code",
   "execution_count": 5,
   "metadata": {},
   "outputs": [
    {
     "name": "stdout",
     "output_type": "stream",
     "text": [
      "PMP shape: torch.Size([1, 480, 9])\n",
      "Jacobian shape: torch.Size([4320, 4320])\n"
     ]
    }
   ],
   "source": [
    "jacobian_rank = []\n",
    "for t in [x * 0.05 for x in range(1)]:\n",
    "    timestep = int(t * num_diffusion_iters)\n",
    "\n",
    "    # Calculate x_t\n",
    "    noise = torch.randn(traj.shape, device=device)\n",
    "    x_t = noise_scheduler.add_noise(\n",
    "        traj, noise, torch.tensor([timestep], dtype=torch.long).to(device)\n",
    "    )\n",
    "\n",
    "    # Calculate PMP using the computed x_t\n",
    "    x_t = x_t.detach().clone().requires_grad_(True)\n",
    "    PMP = compute_PMP(x_t, timestep, noise_pred_net, noise_scheduler)\n",
    "\n",
    "    # Compute Jacobian of PMP with respect to x_t\n",
    "    jacobian = compute_jacobian(PMP, x_t)\n",
    "    \n",
    "    if t==0:\n",
    "        print(\"PMP shape:\", PMP.shape)\n",
    "        print(\"Jacobian shape:\", jacobian.shape)\n",
    "    \n",
    "    jacobian_rank.append(torch.linalg.matrix_rank(jacobian))"
   ]
  },
  {
   "cell_type": "code",
   "execution_count": 11,
   "metadata": {},
   "outputs": [
    {
     "name": "stdout",
     "output_type": "stream",
     "text": [
      "tensor([[ 5.2832e-01,  5.5921e-04, -1.6786e-02,  ...,  1.9585e-04,\n",
      "         -2.1029e-04, -2.9839e-04],\n",
      "        [ 7.0624e-03,  4.7831e-01,  1.6009e-02,  ..., -2.4452e-04,\n",
      "          1.7860e-04,  2.7131e-05],\n",
      "        [-1.2148e-02,  2.0635e-02,  4.8762e-01,  ..., -4.3336e-05,\n",
      "          8.5794e-05, -2.8382e-04],\n",
      "        ...,\n",
      "        [ 9.0713e-05,  1.6199e-06,  3.3362e-05,  ...,  5.6528e-01,\n",
      "          1.8556e-02, -2.6615e-02],\n",
      "        [-6.8748e-05,  5.6451e-05,  1.5919e-05,  ...,  2.3607e-02,\n",
      "          5.7656e-01, -1.6356e-02],\n",
      "        [-1.1103e-04,  1.4634e-04, -9.5587e-05,  ..., -1.1138e-02,\n",
      "         -8.9605e-03,  5.0486e-01]], device='cuda:0')\n",
      "[tensor(4294, device='cuda:0')]\n",
      "tensor(15, device='cuda:0')\n"
     ]
    }
   ],
   "source": [
    "print(jacobian)\n",
    "print(jacobian_rank)\n",
    "print(torch.linalg.matrix_rank(jacobian, tol=(0.10 * torch.norm(jacobian))))"
   ]
  },
  {
   "cell_type": "code",
   "execution_count": null,
   "metadata": {},
   "outputs": [],
   "source": []
  }
 ],
 "metadata": {
  "kernelspec": {
   "display_name": "diffpo",
   "language": "python",
   "name": "python3"
  },
  "language_info": {
   "codemirror_mode": {
    "name": "ipython",
    "version": 3
   },
   "file_extension": ".py",
   "mimetype": "text/x-python",
   "name": "python",
   "nbconvert_exporter": "python",
   "pygments_lexer": "ipython3",
   "version": "3.10.12"
  }
 },
 "nbformat": 4,
 "nbformat_minor": 2
}
